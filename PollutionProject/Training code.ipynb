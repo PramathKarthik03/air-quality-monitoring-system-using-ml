{
 "cells": [
  {
   "cell_type": "code",
   "execution_count": 102,
   "metadata": {
    "collapsed": true
   },
   "outputs": [],
   "source": [
    "import pandas as pd\n",
    "import numpy as np\n",
    "import seaborn as sns\n",
    "from matplotlib import pyplot as plt"
   ]
  },
  {
   "cell_type": "code",
   "execution_count": 103,
   "metadata": {
    "collapsed": true
   },
   "outputs": [],
   "source": [
    "df = pd.read_csv('F:\\project dataset\\Timeshifted.csv')"
   ]
  },
  {
   "cell_type": "code",
   "execution_count": 104,
   "metadata": {
    "collapsed": true
   },
   "outputs": [],
   "source": [
    "y = df[df.columns[3:5]] "
   ]
  },
  {
   "cell_type": "code",
   "execution_count": 105,
   "metadata": {
    "scrolled": true
   },
   "outputs": [
    {
     "data": {
      "text/html": [
       "<div>\n",
       "<style>\n",
       "    .dataframe thead tr:only-child th {\n",
       "        text-align: right;\n",
       "    }\n",
       "\n",
       "    .dataframe thead th {\n",
       "        text-align: left;\n",
       "    }\n",
       "\n",
       "    .dataframe tbody tr th {\n",
       "        vertical-align: top;\n",
       "    }\n",
       "</style>\n",
       "<table border=\"1\" class=\"dataframe\">\n",
       "  <thead>\n",
       "    <tr style=\"text-align: right;\">\n",
       "      <th></th>\n",
       "      <th>PM25</th>\n",
       "      <th>PM10</th>\n",
       "    </tr>\n",
       "  </thead>\n",
       "  <tbody>\n",
       "    <tr>\n",
       "      <th>0</th>\n",
       "      <td>96</td>\n",
       "      <td>140</td>\n",
       "    </tr>\n",
       "    <tr>\n",
       "      <th>1</th>\n",
       "      <td>96</td>\n",
       "      <td>140</td>\n",
       "    </tr>\n",
       "    <tr>\n",
       "      <th>2</th>\n",
       "      <td>96</td>\n",
       "      <td>140</td>\n",
       "    </tr>\n",
       "    <tr>\n",
       "      <th>3</th>\n",
       "      <td>96</td>\n",
       "      <td>140</td>\n",
       "    </tr>\n",
       "    <tr>\n",
       "      <th>4</th>\n",
       "      <td>84</td>\n",
       "      <td>119</td>\n",
       "    </tr>\n",
       "  </tbody>\n",
       "</table>\n",
       "</div>"
      ],
      "text/plain": [
       "   PM25  PM10\n",
       "0    96   140\n",
       "1    96   140\n",
       "2    96   140\n",
       "3    96   140\n",
       "4    84   119"
      ]
     },
     "execution_count": 105,
     "metadata": {},
     "output_type": "execute_result"
    }
   ],
   "source": [
    "y.head()"
   ]
  },
  {
   "cell_type": "code",
   "execution_count": 106,
   "metadata": {
    "collapsed": true
   },
   "outputs": [],
   "source": [
    "X = df.drop(['PM25', 'PM10', 'Temp' , 'RH'], axis = 1) "
   ]
  },
  {
   "cell_type": "code",
   "execution_count": 107,
   "metadata": {},
   "outputs": [
    {
     "data": {
      "text/html": [
       "<div>\n",
       "<style>\n",
       "    .dataframe thead tr:only-child th {\n",
       "        text-align: right;\n",
       "    }\n",
       "\n",
       "    .dataframe thead th {\n",
       "        text-align: left;\n",
       "    }\n",
       "\n",
       "    .dataframe tbody tr th {\n",
       "        vertical-align: top;\n",
       "    }\n",
       "</style>\n",
       "<table border=\"1\" class=\"dataframe\">\n",
       "  <thead>\n",
       "    <tr style=\"text-align: right;\">\n",
       "      <th></th>\n",
       "      <th>Month</th>\n",
       "      <th>Hour</th>\n",
       "      <th>Minute</th>\n",
       "      <th>PM25_1</th>\n",
       "      <th>PM10_1</th>\n",
       "      <th>Temp_1</th>\n",
       "      <th>RH_1</th>\n",
       "      <th>PM25_2</th>\n",
       "      <th>PM10_2</th>\n",
       "      <th>Temp_2</th>\n",
       "      <th>RH_2</th>\n",
       "      <th>PM25_3</th>\n",
       "      <th>PM10_3</th>\n",
       "      <th>Temp_3</th>\n",
       "      <th>RH_3</th>\n",
       "      <th>PM25_4</th>\n",
       "      <th>PM10_4</th>\n",
       "      <th>Temp_4</th>\n",
       "      <th>RH_4</th>\n",
       "    </tr>\n",
       "  </thead>\n",
       "  <tbody>\n",
       "    <tr>\n",
       "      <th>0</th>\n",
       "      <td>1</td>\n",
       "      <td>1</td>\n",
       "      <td>0</td>\n",
       "      <td>59</td>\n",
       "      <td>109</td>\n",
       "      <td>22.7</td>\n",
       "      <td>76.0</td>\n",
       "      <td>59</td>\n",
       "      <td>109</td>\n",
       "      <td>25.9</td>\n",
       "      <td>75.0</td>\n",
       "      <td>59</td>\n",
       "      <td>109</td>\n",
       "      <td>28.6</td>\n",
       "      <td>74.0</td>\n",
       "      <td>59</td>\n",
       "      <td>109</td>\n",
       "      <td>28.8</td>\n",
       "      <td>71.0</td>\n",
       "    </tr>\n",
       "    <tr>\n",
       "      <th>1</th>\n",
       "      <td>1</td>\n",
       "      <td>1</td>\n",
       "      <td>15</td>\n",
       "      <td>96</td>\n",
       "      <td>140</td>\n",
       "      <td>22.6</td>\n",
       "      <td>77.0</td>\n",
       "      <td>59</td>\n",
       "      <td>109</td>\n",
       "      <td>22.7</td>\n",
       "      <td>76.0</td>\n",
       "      <td>59</td>\n",
       "      <td>109</td>\n",
       "      <td>25.9</td>\n",
       "      <td>75.0</td>\n",
       "      <td>59</td>\n",
       "      <td>109</td>\n",
       "      <td>28.6</td>\n",
       "      <td>74.0</td>\n",
       "    </tr>\n",
       "    <tr>\n",
       "      <th>2</th>\n",
       "      <td>1</td>\n",
       "      <td>1</td>\n",
       "      <td>30</td>\n",
       "      <td>96</td>\n",
       "      <td>140</td>\n",
       "      <td>23.3</td>\n",
       "      <td>78.0</td>\n",
       "      <td>96</td>\n",
       "      <td>140</td>\n",
       "      <td>22.6</td>\n",
       "      <td>77.0</td>\n",
       "      <td>59</td>\n",
       "      <td>109</td>\n",
       "      <td>22.7</td>\n",
       "      <td>76.0</td>\n",
       "      <td>59</td>\n",
       "      <td>109</td>\n",
       "      <td>25.9</td>\n",
       "      <td>75.0</td>\n",
       "    </tr>\n",
       "    <tr>\n",
       "      <th>3</th>\n",
       "      <td>1</td>\n",
       "      <td>1</td>\n",
       "      <td>45</td>\n",
       "      <td>96</td>\n",
       "      <td>140</td>\n",
       "      <td>23.5</td>\n",
       "      <td>78.0</td>\n",
       "      <td>96</td>\n",
       "      <td>140</td>\n",
       "      <td>23.3</td>\n",
       "      <td>78.0</td>\n",
       "      <td>96</td>\n",
       "      <td>140</td>\n",
       "      <td>22.6</td>\n",
       "      <td>77.0</td>\n",
       "      <td>59</td>\n",
       "      <td>109</td>\n",
       "      <td>22.7</td>\n",
       "      <td>76.0</td>\n",
       "    </tr>\n",
       "    <tr>\n",
       "      <th>4</th>\n",
       "      <td>1</td>\n",
       "      <td>2</td>\n",
       "      <td>0</td>\n",
       "      <td>96</td>\n",
       "      <td>140</td>\n",
       "      <td>23.6</td>\n",
       "      <td>79.0</td>\n",
       "      <td>96</td>\n",
       "      <td>140</td>\n",
       "      <td>23.5</td>\n",
       "      <td>78.0</td>\n",
       "      <td>96</td>\n",
       "      <td>140</td>\n",
       "      <td>23.3</td>\n",
       "      <td>78.0</td>\n",
       "      <td>96</td>\n",
       "      <td>140</td>\n",
       "      <td>22.6</td>\n",
       "      <td>77.0</td>\n",
       "    </tr>\n",
       "  </tbody>\n",
       "</table>\n",
       "</div>"
      ],
      "text/plain": [
       "   Month  Hour  Minute  PM25_1  PM10_1  Temp_1  RH_1  PM25_2  PM10_2  Temp_2  \\\n",
       "0      1     1       0      59     109    22.7  76.0      59     109    25.9   \n",
       "1      1     1      15      96     140    22.6  77.0      59     109    22.7   \n",
       "2      1     1      30      96     140    23.3  78.0      96     140    22.6   \n",
       "3      1     1      45      96     140    23.5  78.0      96     140    23.3   \n",
       "4      1     2       0      96     140    23.6  79.0      96     140    23.5   \n",
       "\n",
       "   RH_2  PM25_3  PM10_3  Temp_3  RH_3  PM25_4  PM10_4  Temp_4  RH_4  \n",
       "0  75.0      59     109    28.6  74.0      59     109    28.8  71.0  \n",
       "1  76.0      59     109    25.9  75.0      59     109    28.6  74.0  \n",
       "2  77.0      59     109    22.7  76.0      59     109    25.9  75.0  \n",
       "3  78.0      96     140    22.6  77.0      59     109    22.7  76.0  \n",
       "4  78.0      96     140    23.3  78.0      96     140    22.6  77.0  "
      ]
     },
     "execution_count": 107,
     "metadata": {},
     "output_type": "execute_result"
    }
   ],
   "source": [
    "X.head()"
   ]
  },
  {
   "cell_type": "code",
   "execution_count": 108,
   "metadata": {
    "collapsed": true
   },
   "outputs": [],
   "source": [
    "from sklearn.model_selection import train_test_split\n",
    "\n",
    "X_train, X_test, y_train, y_test = train_test_split(X, y, test_size=.3, random_state=1234)"
   ]
  },
  {
   "cell_type": "code",
   "execution_count": 109,
   "metadata": {},
   "outputs": [
    {
     "data": {
      "text/plain": [
       "((68458, 19), (68458, 2))"
      ]
     },
     "execution_count": 109,
     "metadata": {},
     "output_type": "execute_result"
    }
   ],
   "source": [
    "X_train.shape, y_train.shape"
   ]
  },
  {
   "cell_type": "code",
   "execution_count": 110,
   "metadata": {},
   "outputs": [
    {
     "data": {
      "text/plain": [
       "((29340, 19), (29340, 2))"
      ]
     },
     "execution_count": 110,
     "metadata": {},
     "output_type": "execute_result"
    }
   ],
   "source": [
    "X_test.shape, y_test.shape"
   ]
  },
  {
   "cell_type": "code",
   "execution_count": 111,
   "metadata": {},
   "outputs": [
    {
     "data": {
      "text/plain": [
       "Index(['Month', 'Hour', 'Minute', 'PM25_1', 'PM10_1', 'Temp_1', 'RH_1',\n",
       "       'PM25_2', 'PM10_2', 'Temp_2', 'RH_2', 'PM25_3', 'PM10_3', 'Temp_3',\n",
       "       'RH_3', 'PM25_4', 'PM10_4', 'Temp_4', 'RH_4'],\n",
       "      dtype='object')"
      ]
     },
     "execution_count": 111,
     "metadata": {},
     "output_type": "execute_result"
    }
   ],
   "source": [
    "X.columns"
   ]
  },
  {
   "cell_type": "markdown",
   "metadata": {},
   "source": [
    "Linear Regression"
   ]
  },
  {
   "cell_type": "code",
   "execution_count": 112,
   "metadata": {
    "collapsed": true
   },
   "outputs": [],
   "source": [
    "from sklearn.linear_model import LinearRegression\n",
    "from sklearn.metrics import mean_squared_error, mean_absolute_error, r2_score\n",
    "\n",
    "# Create linear regression object\n",
    "regr = LinearRegression()"
   ]
  },
  {
   "cell_type": "code",
   "execution_count": 113,
   "metadata": {},
   "outputs": [
    {
     "data": {
      "text/plain": [
       "LinearRegression(copy_X=True, fit_intercept=True, n_jobs=1, normalize=False)"
      ]
     },
     "execution_count": 113,
     "metadata": {},
     "output_type": "execute_result"
    }
   ],
   "source": [
    "# Train the model using the training sets\n",
    "regr.fit(X_train, y_train)"
   ]
  },
  {
   "cell_type": "code",
   "execution_count": 114,
   "metadata": {
    "collapsed": true
   },
   "outputs": [],
   "source": [
    "# Make predictions using the testing set\n",
    "lin_pred = regr.predict(X_test)"
   ]
  },
  {
   "cell_type": "code",
   "execution_count": 115,
   "metadata": {},
   "outputs": [
    {
     "data": {
      "text/plain": [
       "0.9415958424666652"
      ]
     },
     "execution_count": 115,
     "metadata": {},
     "output_type": "execute_result"
    }
   ],
   "source": [
    "linear_regression_score = regr.score(X_test, y_test)\n",
    "linear_regression_score"
   ]
  },
  {
   "cell_type": "code",
   "execution_count": 116,
   "metadata": {},
   "outputs": [
    {
     "name": "stdout",
     "output_type": "stream",
     "text": [
      "Coefficients: \n",
      " [[-9.64388804e-02  4.77661696e-03 -3.41963184e-03  9.66812871e-01\n",
      "   2.59392519e-03  1.10181212e-02 -3.40292685e-02  1.89506503e-03\n",
      "  -1.70964291e-03  9.24659649e-03  7.68844115e-02 -1.48200656e-03\n",
      "   4.48584460e-03 -1.38961819e-01 -4.51254284e-02 -1.40481250e-02\n",
      "  -7.37324687e-03  1.42880108e-01 -2.14073092e-02]\n",
      " [-1.38690243e-01 -4.10671808e-03 -2.88910678e-03 -3.02840851e-04\n",
      "   9.73335460e-01 -6.25141486e-02 -2.62611761e-02 -4.21629497e-03\n",
      "   5.91131257e-03  3.52784058e-02  6.18025055e-02  3.83191212e-03\n",
      "  -5.04983348e-03  2.11765545e-02 -6.88624547e-02 -4.75694627e-03\n",
      "  -2.50422588e-02 -4.30725349e-02  1.57851363e-02]]\n",
      "Root mean squared error: 10.11\n",
      "Mean absolute error: 3.64\n",
      "R-squared: 0.94\n"
     ]
    }
   ],
   "source": [
    "from math import sqrt\n",
    "# The coefficients\n",
    "print('Coefficients: \\n', regr.coef_)\n",
    "# The mean squared error\n",
    "print(\"Root mean squared error: %.2f\"\n",
    "      % sqrt(mean_squared_error(y_test, lin_pred)))\n",
    "# The absolute squared error\n",
    "print(\"Mean absolute error: %.2f\"\n",
    "      % mean_absolute_error(y_test, lin_pred))\n",
    "# Explained variance score: 1 is perfect prediction\n",
    "print('R-squared: %.2f' % r2_score(y_test, lin_pred))"
   ]
  },
  {
   "cell_type": "code",
   "execution_count": 117,
   "metadata": {},
   "outputs": [
    {
     "data": {
      "image/png": "[encoded data removed]",
      "text/plain": [
       "<matplotlib.figure.Figure at 0x1ae1e6636d8>"
      ]
     },
     "metadata": {},
     "output_type": "display_data"
    }
   ],
   "source": [
    "plt.scatter(y_test, lin_pred)\n",
    "plt.xlabel('Measured')\n",
    "plt.ylabel('Predicted')\n",
    "plt.title('Linear Regression Predicted vs Actual')\n",
    "plt.show()"
   ]
  },
  {
   "cell_type": "code",
   "execution_count": 118,
   "metadata": {
    "collapsed": true
   },
   "outputs": [],
   "source": [
    "from sklearn.neural_network import MLPRegressor\n",
    "from sklearn.metrics import mean_squared_error, mean_absolute_error, r2_score\n",
    "\n",
    "# Create MLPRegressor object\n",
    "mlp = MLPRegressor()"
   ]
  },
  {
   "cell_type": "code",
   "execution_count": 119,
   "metadata": {},
   "outputs": [
    {
     "data": {
      "text/plain": [
       "MLPRegressor(activation='relu', alpha=0.0001, batch_size='auto', beta_1=0.9,\n",
       "       beta_2=0.999, early_stopping=False, epsilon=1e-08,\n",
       "       hidden_layer_sizes=(100,), learning_rate='constant',\n",
       "       learning_rate_init=0.001, max_iter=200, momentum=0.9,\n",
       "       nesterovs_momentum=True, power_t=0.5, random_state=None,\n",
       "       shuffle=True, solver='adam', tol=0.0001, validation_fraction=0.1,\n",
       "       verbose=False, warm_start=False)"
      ]
     },
     "execution_count": 119,
     "metadata": {},
     "output_type": "execute_result"
    }
   ],
   "source": [
    "\n",
    "\n",
    "# Train the model using the training sets\n",
    "mlp.fit(X_train, y_train)\n",
    "\n"
   ]
  },
  {
   "cell_type": "code",
   "execution_count": 120,
   "metadata": {},
   "outputs": [
    {
     "data": {
      "text/plain": [
       "0.9439865176652844"
      ]
     },
     "execution_count": 120,
     "metadata": {},
     "output_type": "execute_result"
    }
   ],
   "source": [
    "\n",
    "\n",
    "# Score the model\n",
    "neural_network_regression_score = mlp.score(X_test, y_test)\n",
    "neural_network_regression_score\n",
    "\n"
   ]
  },
  {
   "cell_type": "code",
   "execution_count": 121,
   "metadata": {
    "collapsed": true
   },
   "outputs": [],
   "source": [
    "# Make predictions using the testing set\n",
    "nnr_pred = mlp.predict(X_test)"
   ]
  },
  {
   "cell_type": "code",
   "execution_count": 122,
   "metadata": {},
   "outputs": [
    {
     "name": "stdout",
     "output_type": "stream",
     "text": [
      "Root mean squared error: 9.90\n",
      "Mean absolute error: 3.64\n",
      "R-squared: 0.94\n"
     ]
    }
   ],
   "source": [
    "# The mean squared error\n",
    "print(\"Root mean squared error: %.2f\"\n",
    "      % sqrt(mean_squared_error(y_test, nnr_pred)))\n",
    "# The absolute squared error\n",
    "print(\"Mean absolute error: %.2f\"\n",
    "      % mean_absolute_error(y_test, nnr_pred))\n",
    "# Explained variance score: 1 is perfect prediction\n",
    "print('R-squared: %.2f' % r2_score(y_test, nnr_pred))"
   ]
  },
  {
   "cell_type": "code",
   "execution_count": 123,
   "metadata": {},
   "outputs": [
    {
     "data": {
      "image/png": "[encoded data removed]",
      "text/plain": [
       "<matplotlib.figure.Figure at 0x1ae1a200cf8>"
      ]
     },
     "metadata": {},
     "output_type": "display_data"
    }
   ],
   "source": [
    "plt.scatter(y_test, nnr_pred)\n",
    "plt.xlabel('Measured')\n",
    "plt.ylabel('Predicted')\n",
    "plt.title('Neural Network Regression Predicted vs Actual')\n",
    "plt.show()\n",
    "\n"
   ]
  },
  {
   "cell_type": "code",
   "execution_count": 124,
   "metadata": {},
   "outputs": [
    {
     "name": "stdout",
     "output_type": "stream",
     "text": [
      "[[111.94828841  43.21483359]\n",
      " [  9.30755552  36.22043763]\n",
      " [ 57.31651467 146.69415717]\n",
      " ...\n",
      " [  3.09488179  16.15977389]\n",
      " [ 36.17786954  74.08886526]\n",
      " [ 54.1367807  101.23813415]]\n"
     ]
    }
   ],
   "source": [
    "print(nnr_pred )\n"
   ]
  },
  {
   "cell_type": "code",
   "execution_count": 125,
   "metadata": {},
   "outputs": [
    {
     "data": {
      "text/plain": [
       "<zip at 0x1ae1bcfcec8>"
      ]
     },
     "execution_count": 125,
     "metadata": {},
     "output_type": "execute_result"
    }
   ],
   "source": [
    "zip(*nnr_pred)\n"
   ]
  },
  {
   "cell_type": "code",
   "execution_count": 126,
   "metadata": {},
   "outputs": [
    {
     "name": "stdout",
     "output_type": "stream",
     "text": [
      "       PM25  PM10\n",
      "71943   114    45\n",
      "18654     9    37\n",
      "34151    59   150\n",
      "74827    70    41\n",
      "55047    17    56\n",
      "59184    54    86\n",
      "8117     45    89\n",
      "34385    41   130\n",
      "90924    57    28\n",
      "38428    15    45\n",
      "50076     8    28\n",
      "91664   195    51\n",
      "25191    10    19\n",
      "73967    78    30\n",
      "27751     9    24\n",
      "45259    12    23\n",
      "88245    38    17\n",
      "91858    37    18\n",
      "92688    45    27\n",
      "64046    70   131\n",
      "2645     19    32\n",
      "34363    45   118\n",
      "7382     53   131\n",
      "12321    47    74\n",
      "68295    96    44\n",
      "65068    38    57\n",
      "7233     40    92\n",
      "47542    18    50\n",
      "1962     65   136\n",
      "35238    43    77\n",
      "...     ...   ...\n",
      "51200     9    18\n",
      "91459    27    16\n",
      "26524    71   158\n",
      "6902     55   130\n",
      "50711     6    26\n",
      "1995     91   118\n",
      "49070     4    33\n",
      "62992    26    71\n",
      "86245   135    27\n",
      "21604    10    30\n",
      "79133    92    33\n",
      "4903     50   120\n",
      "41786    48   121\n",
      "83419    35     9\n",
      "50505    15    39\n",
      "54951    17    48\n",
      "36815    48    75\n",
      "53512     8    22\n",
      "50353    11    25\n",
      "39679    34    86\n",
      "52889    19    58\n",
      "27859    60   136\n",
      "84824    92    17\n",
      "77223   127    58\n",
      "46515    17    57\n",
      "51315     1     9\n",
      "94376    24    13\n",
      "54923    23    33\n",
      "32128    47    94\n",
      "10359    54   101\n",
      "\n",
      "[29340 rows x 2 columns]\n"
     ]
    }
   ],
   "source": [
    "print(y_test)"
   ]
  },
  {
   "cell_type": "code",
   "execution_count": 127,
   "metadata": {
    "collapsed": true
   },
   "outputs": [],
   "source": [
    "from sklearn.linear_model import Lasso\n",
    "\n",
    "lasso = Lasso()"
   ]
  },
  {
   "cell_type": "code",
   "execution_count": 128,
   "metadata": {},
   "outputs": [
    {
     "data": {
      "text/plain": [
       "Lasso(alpha=1.0, copy_X=True, fit_intercept=True, max_iter=1000,\n",
       "   normalize=False, positive=False, precompute=False, random_state=None,\n",
       "   selection='cyclic', tol=0.0001, warm_start=False)"
      ]
     },
     "execution_count": 128,
     "metadata": {},
     "output_type": "execute_result"
    }
   ],
   "source": [
    "lasso.fit(X_train, y_train)"
   ]
  },
  {
   "cell_type": "code",
   "execution_count": 129,
   "metadata": {},
   "outputs": [
    {
     "data": {
      "text/plain": [
       "0.9416176031946343"
      ]
     },
     "execution_count": 129,
     "metadata": {},
     "output_type": "execute_result"
    }
   ],
   "source": [
    "# Score the model\n",
    "lasso_score = lasso.score(X_test, y_test)\n",
    "lasso_score"
   ]
  },
  {
   "cell_type": "code",
   "execution_count": 130,
   "metadata": {
    "collapsed": true
   },
   "outputs": [],
   "source": [
    "# Make predictions using the testing set\n",
    "lasso_pred = lasso.predict(X_test)"
   ]
  },
  {
   "cell_type": "code",
   "execution_count": 131,
   "metadata": {},
   "outputs": [
    {
     "name": "stdout",
     "output_type": "stream",
     "text": [
      "Root mean squared error: 10.11\n"
     ]
    }
   ],
   "source": [
    "print(\"Root mean squared error: %.2f\"\n",
    "      % sqrt(mean_squared_error(y_test, lasso_pred)))"
   ]
  },
  {
   "cell_type": "code",
   "execution_count": 132,
   "metadata": {},
   "outputs": [
    {
     "data": {
      "image/png": "[encoded data removed]",
      "text/plain": [
       "<matplotlib.figure.Figure at 0x1ae1ed497f0>"
      ]
     },
     "metadata": {},
     "output_type": "display_data"
    }
   ],
   "source": [
    "plt.scatter(y_test, lasso_pred)\n",
    "plt.xlabel('Measured')\n",
    "plt.ylabel('Predicted')\n",
    "plt.title('Lasso Predicted vs Actual')\n",
    "plt.show()"
   ]
  },
  {
   "cell_type": "code",
   "execution_count": 133,
   "metadata": {
    "collapsed": true
   },
   "outputs": [],
   "source": [
    "from sklearn.linear_model import ElasticNet\n",
    "\n",
    "elasticnet = ElasticNet()"
   ]
  },
  {
   "cell_type": "code",
   "execution_count": 134,
   "metadata": {},
   "outputs": [
    {
     "data": {
      "text/plain": [
       "ElasticNet(alpha=1.0, copy_X=True, fit_intercept=True, l1_ratio=0.5,\n",
       "      max_iter=1000, normalize=False, positive=False, precompute=False,\n",
       "      random_state=None, selection='cyclic', tol=0.0001, warm_start=False)"
      ]
     },
     "execution_count": 134,
     "metadata": {},
     "output_type": "execute_result"
    }
   ],
   "source": [
    "elasticnet.fit(X_train, y_train)"
   ]
  },
  {
   "cell_type": "code",
   "execution_count": 135,
   "metadata": {},
   "outputs": [
    {
     "data": {
      "text/plain": [
       "0.9416257121376606"
      ]
     },
     "execution_count": 135,
     "metadata": {},
     "output_type": "execute_result"
    }
   ],
   "source": [
    "elasticnet_score = elasticnet.score(X_test, y_test)\n",
    "elasticnet_score"
   ]
  },
  {
   "cell_type": "code",
   "execution_count": 136,
   "metadata": {
    "collapsed": true
   },
   "outputs": [],
   "source": [
    "elasticnet_pred = elasticnet.predict(X_test)"
   ]
  },
  {
   "cell_type": "code",
   "execution_count": 137,
   "metadata": {},
   "outputs": [
    {
     "name": "stdout",
     "output_type": "stream",
     "text": [
      "Root mean squared error: 10.11\n"
     ]
    }
   ],
   "source": [
    "# The mean squared error\n",
    "print(\"Root mean squared error: %.2f\"\n",
    "      % sqrt(mean_squared_error(y_test, elasticnet_pred)))"
   ]
  },
  {
   "cell_type": "code",
   "execution_count": 138,
   "metadata": {},
   "outputs": [
    {
     "name": "stderr",
     "output_type": "stream",
     "text": [
      "C:\\ProgramData\\Anaconda3\\lib\\site-packages\\sklearn\\ensemble\\weight_boosting.py:29: DeprecationWarning: numpy.core.umath_tests is an internal NumPy module and should not be imported. It will be removed in a future NumPy release.\n",
      "  from numpy.core.umath_tests import inner1d\n"
     ]
    }
   ],
   "source": [
    "from sklearn.ensemble import RandomForestRegressor\n",
    "from sklearn.metrics import mean_squared_error, mean_absolute_error, r2_score\n",
    "\n",
    "\n",
    "# Create Random Forrest Regressor object\n",
    "regr_rf = RandomForestRegressor(n_estimators=200, random_state=1234)"
   ]
  },
  {
   "cell_type": "code",
   "execution_count": 139,
   "metadata": {},
   "outputs": [
    {
     "data": {
      "text/plain": [
       "RandomForestRegressor(bootstrap=True, criterion='mse', max_depth=None,\n",
       "           max_features='auto', max_leaf_nodes=None,\n",
       "           min_impurity_decrease=0.0, min_impurity_split=None,\n",
       "           min_samples_leaf=1, min_samples_split=2,\n",
       "           min_weight_fraction_leaf=0.0, n_estimators=200, n_jobs=1,\n",
       "           oob_score=False, random_state=1234, verbose=0, warm_start=False)"
      ]
     },
     "execution_count": 139,
     "metadata": {},
     "output_type": "execute_result"
    }
   ],
   "source": [
    "# Train the model using the training sets\n",
    "regr_rf.fit(X_train, y_train)"
   ]
  },
  {
   "cell_type": "code",
   "execution_count": 140,
   "metadata": {},
   "outputs": [
    {
     "data": {
      "text/plain": [
       "0.9411053021485662"
      ]
     },
     "execution_count": 140,
     "metadata": {},
     "output_type": "execute_result"
    }
   ],
   "source": [
    "# Score the model\n",
    "decision_forest_score = regr_rf.score(X_test, y_test)\n",
    "decision_forest_score"
   ]
  },
  {
   "cell_type": "code",
   "execution_count": 141,
   "metadata": {
    "collapsed": true
   },
   "outputs": [],
   "source": [
    "# Make predictions using the testing set\n",
    "regr_rf_pred = regr_rf.predict(X_test)"
   ]
  },
  {
   "cell_type": "code",
   "execution_count": 142,
   "metadata": {},
   "outputs": [
    {
     "name": "stdout",
     "output_type": "stream",
     "text": [
      "Root mean squared error: 10.15\n",
      "Mean absolute error: 3.66\n",
      "R-squared: 0.94\n"
     ]
    }
   ],
   "source": [
    "# The mean squared error\n",
    "print(\"Root mean squared error: %.2f\"\n",
    "      % sqrt(mean_squared_error(y_test, regr_rf_pred)))\n",
    "# The absolute squared error\n",
    "print(\"Mean absolute error: %.2f\"\n",
    "      % mean_absolute_error(y_test, regr_rf_pred))\n",
    "# Explained variance score: 1 is perfect prediction\n",
    "print('R-squared: %.2f' % r2_score(y_test, regr_rf_pred))"
   ]
  },
  {
   "cell_type": "code",
   "execution_count": 143,
   "metadata": {},
   "outputs": [
    {
     "data": {
      "text/plain": [
       "Index(['Month', 'Hour', 'Minute', 'PM25_1', 'PM10_1', 'Temp_1', 'RH_1',\n",
       "       'PM25_2', 'PM10_2', 'Temp_2', 'RH_2', 'PM25_3', 'PM10_3', 'Temp_3',\n",
       "       'RH_3', 'PM25_4', 'PM10_4', 'Temp_4', 'RH_4'],\n",
       "      dtype='object')"
      ]
     },
     "execution_count": 143,
     "metadata": {},
     "output_type": "execute_result"
    }
   ],
   "source": [
    "X.columns"
   ]
  },
  {
   "cell_type": "code",
   "execution_count": 144,
   "metadata": {},
   "outputs": [
    {
     "data": {
      "image/png": "[encoded data removed]",
      "text/plain": [
       "<matplotlib.figure.Figure at 0x1ae1fea3ba8>"
      ]
     },
     "metadata": {},
     "output_type": "display_data"
    }
   ],
   "source": [
    "features = X.columns\n",
    "importances = regr_rf.feature_importances_\n",
    "indices = np.argsort(importances)\n",
    "\n",
    "plt.title('Feature Importances')\n",
    "plt.barh(range(len(indices)), importances[indices], color='b', align='center')\n",
    "plt.yticks(range(len(indices)), features[indices])\n",
    "plt.xlabel('Relative Importance')\n",
    "plt.show()"
   ]
  },
  {
   "cell_type": "code",
   "execution_count": 145,
   "metadata": {},
   "outputs": [
    {
     "data": {
      "image/png": "[encoded data removed]",
      "text/plain": [
       "<matplotlib.figure.Figure at 0x1ae1fea3828>"
      ]
     },
     "metadata": {},
     "output_type": "display_data"
    }
   ],
   "source": [
    "plt.scatter(y_test, regr_rf_pred)\n",
    "plt.xlabel('Measured')\n",
    "plt.ylabel('Predicted')\n",
    "plt.title('Decision Forest Predicted vs Actual')\n",
    "plt.show()"
   ]
  },
  {
   "cell_type": "code",
   "execution_count": 146,
   "metadata": {
    "collapsed": true
   },
   "outputs": [],
   "source": [
    "from sklearn.ensemble import ExtraTreesRegressor\n",
    "\n",
    "extra_tree = ExtraTreesRegressor(n_estimators=200, random_state=1234)"
   ]
  },
  {
   "cell_type": "code",
   "execution_count": 147,
   "metadata": {},
   "outputs": [
    {
     "data": {
      "text/plain": [
       "ExtraTreesRegressor(bootstrap=False, criterion='mse', max_depth=None,\n",
       "          max_features='auto', max_leaf_nodes=None,\n",
       "          min_impurity_decrease=0.0, min_impurity_split=None,\n",
       "          min_samples_leaf=1, min_samples_split=2,\n",
       "          min_weight_fraction_leaf=0.0, n_estimators=200, n_jobs=1,\n",
       "          oob_score=False, random_state=1234, verbose=0, warm_start=False)"
      ]
     },
     "execution_count": 147,
     "metadata": {},
     "output_type": "execute_result"
    }
   ],
   "source": [
    "extra_tree.fit(X_train, y_train)"
   ]
  },
  {
   "cell_type": "code",
   "execution_count": 148,
   "metadata": {},
   "outputs": [
    {
     "data": {
      "text/plain": [
       "0.9400783162736022"
      ]
     },
     "execution_count": 148,
     "metadata": {},
     "output_type": "execute_result"
    }
   ],
   "source": [
    "extratree_score = extra_tree.score(X_test, y_test)\n",
    "extratree_score"
   ]
  },
  {
   "cell_type": "code",
   "execution_count": 149,
   "metadata": {
    "collapsed": true
   },
   "outputs": [],
   "source": [
    "extratree_pred = extra_tree.predict(X_test)"
   ]
  },
  {
   "cell_type": "code",
   "execution_count": 150,
   "metadata": {},
   "outputs": [
    {
     "name": "stdout",
     "output_type": "stream",
     "text": [
      "Root mean squared error: 10.24\n"
     ]
    }
   ],
   "source": [
    "print(\"Root mean squared error: %.2f\"\n",
    "      % sqrt(mean_squared_error(y_test, extratree_pred)))"
   ]
  },
  {
   "cell_type": "code",
   "execution_count": 151,
   "metadata": {},
   "outputs": [
    {
     "data": {
      "image/png": "[encoded data removed]",
      "text/plain": [
       "<matplotlib.figure.Figure at 0x1ae1fe0b048>"
      ]
     },
     "metadata": {},
     "output_type": "display_data"
    }
   ],
   "source": [
    "features = X.columns\n",
    "importances = extra_tree.feature_importances_\n",
    "indices = np.argsort(importances)\n",
    "\n",
    "plt.title('Feature Importances')\n",
    "plt.barh(range(len(indices)), importances[indices], color='b', align='center')\n",
    "plt.yticks(range(len(indices)), features[indices])\n",
    "plt.xlabel('Relative Importance')\n",
    "plt.show()"
   ]
  },
  {
   "cell_type": "code",
   "execution_count": 152,
   "metadata": {},
   "outputs": [
    {
     "data": {
      "image/png": "[encoded data removed]",
      "text/plain": [
       "<matplotlib.figure.Figure at 0x1ae1dc38e10>"
      ]
     },
     "metadata": {},
     "output_type": "display_data"
    }
   ],
   "source": [
    "plt.scatter(y_test, extratree_pred)\n",
    "plt.xlabel('Measured')\n",
    "plt.ylabel('Predicted')\n",
    "plt.title('Extra Trees Predicted vs Actual')\n",
    "plt.show()"
   ]
  },
  {
   "cell_type": "code",
   "execution_count": 155,
   "metadata": {},
   "outputs": [
    {
     "name": "stdout",
     "output_type": "stream",
     "text": [
      "Scores:\n",
      "Linear regression score:  0.9415958424666652\n",
      "Neural network regression score:  0.9439865176652844\n",
      "Lasso regression score:  0.9416176031946343\n",
      "ElasticNet regression score:  0.9416257121376606\n",
      "Decision forest score:  0.9411053021485662\n",
      "Extra Trees score:  0.9400783162736022\n",
      "\n",
      "\n",
      "RMSE:\n",
      "Linear regression RMSE: 10.11\n",
      "Neural network RMSE: 9.90\n",
      "Lasso RMSE: 10.11\n",
      "ElasticNet RMSE: 10.11\n",
      "Decision forest RMSE: 10.15\n",
      "Extra Trees RMSE: 10.24\n"
     ]
    }
   ],
   "source": [
    "print(\"Scores:\")\n",
    "print(\"Linear regression score: \", linear_regression_score)\n",
    "print(\"Neural network regression score: \", neural_network_regression_score)\n",
    "print(\"Lasso regression score: \", lasso_score)\n",
    "print(\"ElasticNet regression score: \", elasticnet_score)\n",
    "print(\"Decision forest score: \", decision_forest_score)\n",
    "print(\"Extra Trees score: \", extratree_score)\n",
    "print(\"\\n\")\n",
    "print(\"RMSE:\")\n",
    "print(\"Linear regression RMSE: %.2f\"\n",
    "      % sqrt(mean_squared_error(y_test, lin_pred)))\n",
    "print(\"Neural network RMSE: %.2f\"\n",
    "      % sqrt(mean_squared_error(y_test, nnr_pred)))\n",
    "print(\"Lasso RMSE: %.2f\"\n",
    "      % sqrt(mean_squared_error(y_test, lasso_pred)))\n",
    "print(\"ElasticNet RMSE: %.2f\"\n",
    "      % sqrt(mean_squared_error(y_test, elasticnet_pred)))\n",
    "print(\"Decision forest RMSE: %.2f\"\n",
    "      % sqrt(mean_squared_error(y_test, regr_rf_pred)))\n",
    "print(\"Extra Trees RMSE: %.2f\"\n",
    "      % sqrt(mean_squared_error(y_test, extratree_pred)))\n"
   ]
  },
  {
   "cell_type": "code",
   "execution_count": null,
   "metadata": {
    "collapsed": true
   },
   "outputs": [],
   "source": []
  }
 ],
 "metadata": {
  "kernelspec": {
   "display_name": "Python 3",
   "language": "python",
   "name": "python3"
  },
  "language_info": {
   "codemirror_mode": {
    "name": "ipython",
    "version": 3
   },
   "file_extension": ".py",
   "mimetype": "text/x-python",
   "name": "python",
   "nbconvert_exporter": "python",
   "pygments_lexer": "ipython3",
   "version": "3.6.3"
  }
 },
 "nbformat": 4,
 "nbformat_minor": 2
}
