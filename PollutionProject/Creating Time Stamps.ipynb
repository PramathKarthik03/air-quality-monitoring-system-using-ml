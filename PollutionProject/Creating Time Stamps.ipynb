{
 "cells": [
  {
   "cell_type": "code",
   "execution_count": 11,
   "metadata": {
    "collapsed": true
   },
   "outputs": [],
   "source": [
    "import pandas as pd\n",
    "import numpy as np\n",
    "import datetime\n"
   ]
  },
  {
   "cell_type": "code",
   "execution_count": 22,
   "metadata": {},
   "outputs": [
    {
     "name": "stdout",
     "output_type": "stream",
     "text": [
      "0        01-01-2019 00:00\n",
      "1        01-01-2019 00:15\n",
      "2        01-01-2019 00:30\n",
      "3        01-01-2019 00:45\n",
      "4        01-01-2019 01:00\n",
      "5        01-01-2019 01:15\n",
      "6        01-01-2019 01:30\n",
      "7        01-01-2019 01:45\n",
      "8        01-01-2019 02:00\n",
      "9        01-01-2019 02:15\n",
      "10       01-01-2019 02:30\n",
      "11       01-01-2019 02:45\n",
      "12       01-01-2019 03:00\n",
      "13       01-01-2019 03:15\n",
      "14       01-01-2019 03:30\n",
      "15       01-01-2019 03:45\n",
      "16       01-01-2019 04:00\n",
      "17       01-01-2019 04:15\n",
      "18       01-01-2019 04:30\n",
      "19       01-01-2019 04:45\n",
      "20       01-01-2019 05:00\n",
      "21       01-01-2019 05:15\n",
      "22       01-01-2019 05:30\n",
      "23       01-01-2019 05:45\n",
      "24       01-01-2019 06:00\n",
      "25       01-01-2019 06:15\n",
      "26       01-01-2019 06:30\n",
      "27       01-01-2019 06:45\n",
      "28       01-01-2019 07:00\n",
      "29       01-01-2019 07:15\n",
      "               ...       \n",
      "97772    01-02-2020 04:45\n",
      "97773    01-02-2020 05:00\n",
      "97774    01-02-2020 05:15\n",
      "97775    01-02-2020 05:45\n",
      "97776    01-02-2020 06:00\n",
      "97777    01-02-2020 06:15\n",
      "97778    01-02-2020 06:30\n",
      "97779    01-02-2020 06:45\n",
      "97780    01-02-2020 07:00\n",
      "97781    01-02-2020 07:30\n",
      "97782    01-02-2020 07:45\n",
      "97783    01-02-2020 08:00\n",
      "97784    01-02-2020 08:15\n",
      "97785    01-02-2020 08:30\n",
      "97786    01-02-2020 08:45\n",
      "97787    01-02-2020 09:00\n",
      "97788    01-02-2020 09:15\n",
      "97789    01-02-2020 09:45\n",
      "97790    01-02-2020 10:00\n",
      "97791    01-02-2020 10:15\n",
      "97792    01-02-2020 10:30\n",
      "97793    01-02-2020 10:45\n",
      "97794    01-02-2020 11:00\n",
      "97795    01-02-2020 11:15\n",
      "97796    01-02-2020 11:30\n",
      "97797    01-02-2020 11:45\n",
      "97798    01-02-2020 12:00\n",
      "97799    01-02-2020 12:15\n",
      "97800    01-02-2020 12:30\n",
      "97801    01-02-2020 12:45\n",
      "Name: From Date, Length: 97802, dtype: object\n"
     ]
    }
   ],
   "source": [
    "df = pd.read_csv(r'F:\\project dataset\\CleanedDataset.csv')\n",
    "print(df['From Date'])"
   ]
  },
  {
   "cell_type": "code",
   "execution_count": 24,
   "metadata": {
    "collapsed": true
   },
   "outputs": [],
   "source": [
    "df['DateTime'] = [datetime.datetime.strptime(d, \"%d-%m-%Y %H:%M\") for d in df[\"From Date\"]]\n",
    "\n",
    "# extracting date from timestamp\n",
    "df['Date'] = [datetime.datetime.date(d) for d in df['DateTime']] \n",
    "\n",
    "# extracting time from timestamp\n",
    "df['Time'] = [datetime.datetime.time(d) for d in df['DateTime']] \n",
    "\n"
   ]
  },
  {
   "cell_type": "code",
   "execution_count": 26,
   "metadata": {
    "collapsed": true
   },
   "outputs": [],
   "source": [
    "df.to_csv(r'F:\\project dataset\\TimeStamped.csv')"
   ]
  }
 ],
 "metadata": {
  "kernelspec": {
   "display_name": "Python 3",
   "language": "python",
   "name": "python3"
  },
  "language_info": {
   "codemirror_mode": {
    "name": "ipython",
    "version": 3
   },
   "file_extension": ".py",
   "mimetype": "text/x-python",
   "name": "python",
   "nbconvert_exporter": "python",
   "pygments_lexer": "ipython3",
   "version": "3.6.3"
  }
 },
 "nbformat": 4,
 "nbformat_minor": 2
}
